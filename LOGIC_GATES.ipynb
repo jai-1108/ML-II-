{
  "nbformat": 4,
  "nbformat_minor": 0,
  "metadata": {
    "colab": {
      "provenance": []
    },
    "kernelspec": {
      "name": "python3",
      "display_name": "Python 3"
    },
    "language_info": {
      "name": "python"
    }
  },
  "cells": [
    {
      "cell_type": "code",
      "execution_count": null,
      "metadata": {
        "id": "1pTTqWY9XOAM"
      },
      "outputs": [],
      "source": [
        "import numpy as np"
      ]
    },
    {
      "cell_type": "code",
      "source": [
        "def step_function(v):\n",
        "  if v>=0:\n",
        "    return 1\n",
        "  else:\n",
        "    return 0"
      ],
      "metadata": {
        "id": "43mSxJNaXZJL"
      },
      "execution_count": null,
      "outputs": []
    },
    {
      "cell_type": "code",
      "source": [
        "def perceptron(x,w,b):\n",
        "  yin = np.dot(x,w) + b\n",
        "  yhat = step_function(yin)\n",
        "  return yhat"
      ],
      "metadata": {
        "id": "kkGCyDpnXcE7"
      },
      "execution_count": null,
      "outputs": []
    },
    {
      "cell_type": "code",
      "source": [
        "def AND_function(x):\n",
        "  w = np.array([1,1])\n",
        "  b = -2\n",
        "  return perceptron(x,w,b)"
      ],
      "metadata": {
        "id": "pEO5ghLJXfNJ"
      },
      "execution_count": null,
      "outputs": []
    },
    {
      "cell_type": "code",
      "source": [
        "test = ([0,0], [0,1], [1,0], [1,1])\n",
        "\n",
        "print(\"AND({}, {}) = {}\".format(0, 0, AND_function(test[0])))\n",
        "print(\"AND({}, {}) = {}\".format(0, 1, AND_function(test[1])))\n",
        "print(\"AND({}, {}) = {}\".format(1, 0, AND_function(test[2])))\n",
        "print(\"AND({}, {}) = {}\".format(1, 1, AND_function(test[3])))"
      ],
      "metadata": {
        "colab": {
          "base_uri": "https://localhost:8080/"
        },
        "id": "8Alkg-dXXhPJ",
        "outputId": "c40cb6f2-6b3e-487f-b7c4-0b20948cb485"
      },
      "execution_count": null,
      "outputs": [
        {
          "output_type": "stream",
          "name": "stdout",
          "text": [
            "AND(0, 0) = 0\n",
            "AND(0, 1) = 0\n",
            "AND(1, 0) = 0\n",
            "AND(1, 1) = 1\n"
          ]
        }
      ]
    },
    {
      "cell_type": "code",
      "source": [
        "def OR_function(x):\n",
        "  w = np.array([1,1])\n",
        "  b = -1\n",
        "  return perceptron(x,w,b)"
      ],
      "metadata": {
        "id": "2M-8k0r_XjHv"
      },
      "execution_count": null,
      "outputs": []
    },
    {
      "cell_type": "code",
      "source": [
        "test = ([0,0], [0,1], [1,0], [1,1])\n",
        "\n",
        "print(\"OR({}, {}) = {}\".format(0, 0, OR_function(test[0])))\n",
        "print(\"OR({}, {}) = {}\".format(0, 1, OR_function(test[1])))\n",
        "print(\"OR({}, {}) = {}\".format(1, 0, OR_function(test[2])))\n",
        "print(\"OR({}, {}) = {}\".format(1, 1, OR_function(test[3])))"
      ],
      "metadata": {
        "colab": {
          "base_uri": "https://localhost:8080/"
        },
        "id": "y7E4brDUXorc",
        "outputId": "2e6ad951-5a6d-48a4-a278-4152ce5476ab"
      },
      "execution_count": null,
      "outputs": [
        {
          "output_type": "stream",
          "name": "stdout",
          "text": [
            "OR(0, 0) = 0\n",
            "OR(0, 1) = 1\n",
            "OR(1, 0) = 1\n",
            "OR(1, 1) = 1\n"
          ]
        }
      ]
    },
    {
      "cell_type": "code",
      "source": [
        "def NOT_function(x):\n",
        "    w = -1\n",
        "    b = 0\n",
        "    return perceptron(x, w, b)"
      ],
      "metadata": {
        "id": "IAeoVc-2XsZi"
      },
      "execution_count": null,
      "outputs": []
    },
    {
      "cell_type": "code",
      "source": [
        "test = [0,1]\n",
        "\n",
        "print(\"NOT({}) = ({})\".format(0,NOT_function(test[0])))\n",
        "print(\"NOT({}) = ({})\".format(1,NOT_function(test[1])))"
      ],
      "metadata": {
        "colab": {
          "base_uri": "https://localhost:8080/"
        },
        "id": "r-ke6h-VXwa3",
        "outputId": "bc711516-dbd7-4080-fe10-260316d1a9e8"
      },
      "execution_count": null,
      "outputs": [
        {
          "output_type": "stream",
          "name": "stdout",
          "text": [
            "NOT(0) = (1)\n",
            "NOT(1) = (0)\n"
          ]
        }
      ]
    },
    {
      "cell_type": "code",
      "source": [
        "def NOR_function(x):\n",
        "    output_OR = OR_function(x)\n",
        "    output_NOT = NOT_function(output_OR)\n",
        "    return output_NOT"
      ],
      "metadata": {
        "id": "pTeVgYJKXyXD"
      },
      "execution_count": null,
      "outputs": []
    },
    {
      "cell_type": "code",
      "source": [
        "test = ([0,0], [0,1], [1,0], [1,1])\n",
        "\n",
        "print(\"NOR({}, {}) = {}\".format(0, 0, NOR_function(test[0])))\n",
        "print(\"NOR({}, {}) = {}\".format(0, 1, NOR_function(test[1])))\n",
        "print(\"NOR({}, {}) = {}\".format(1, 0, NOR_function(test[2])))\n",
        "print(\"NOR({}, {}) = {}\".format(1, 1, NOR_function(test[3])))"
      ],
      "metadata": {
        "colab": {
          "base_uri": "https://localhost:8080/"
        },
        "id": "CtrtXwGoX1rN",
        "outputId": "23e5190d-fa3d-468f-f96a-2e100ec32e46"
      },
      "execution_count": null,
      "outputs": [
        {
          "output_type": "stream",
          "name": "stdout",
          "text": [
            "NOR(0, 0) = 1\n",
            "NOR(0, 1) = 0\n",
            "NOR(1, 0) = 0\n",
            "NOR(1, 1) = 0\n"
          ]
        }
      ]
    },
    {
      "cell_type": "code",
      "source": [
        "def NAND_function(x):\n",
        "    output_AND = AND_function(x)\n",
        "    output_NOT = NOT_function(output_AND)\n",
        "    return output_NOT"
      ],
      "metadata": {
        "id": "NoQRmj-hX5wb"
      },
      "execution_count": null,
      "outputs": []
    },
    {
      "cell_type": "code",
      "source": [
        "test = ([0,0], [0,1], [1,0], [1,1])\n",
        "\n",
        "print(\"NAND({}, {}) = {}\".format(0, 0, NAND_function(test[0])))\n",
        "print(\"NAND({}, {}) = {}\".format(0, 1, NAND_function(test[1])))\n",
        "print(\"NAND({}, {}) = {}\".format(1, 0, NAND_function(test[2])))\n",
        "print(\"NAND({}, {}) = {}\".format(1, 1, NAND_function(test[3])))"
      ],
      "metadata": {
        "colab": {
          "base_uri": "https://localhost:8080/"
        },
        "id": "A8ogAhYGX_5t",
        "outputId": "b43a431b-85a4-400b-af77-7fa43775386d"
      },
      "execution_count": null,
      "outputs": [
        {
          "output_type": "stream",
          "name": "stdout",
          "text": [
            "NAND(0, 0) = 1\n",
            "NAND(0, 1) = 1\n",
            "NAND(1, 0) = 1\n",
            "NAND(1, 1) = 0\n"
          ]
        }
      ]
    },
    {
      "cell_type": "code",
      "source": [
        "def XOR_function(x):\n",
        "  return AND_function([NAND_function(x),OR_function(x)])"
      ],
      "metadata": {
        "id": "FzTzCk-eYB0p"
      },
      "execution_count": null,
      "outputs": []
    },
    {
      "cell_type": "code",
      "source": [
        "test = ([0,0], [0,1], [1,0], [1,1])\n",
        "\n",
        "print(\"XOR({}, {}) = {}\".format(0, 0, XOR_function(test[0])))\n",
        "print(\"XOR({}, {}) = {}\".format(0, 1, XOR_function(test[1])))\n",
        "print(\"XOR({}, {}) = {}\".format(1, 0, XOR_function(test[2])))\n",
        "print(\"XOR({}, {}) = {}\".format(1, 1, XOR_function(test[3])))"
      ],
      "metadata": {
        "id": "vqq28jVvYFuD",
        "outputId": "a7f9c66f-29e3-4394-b504-27666723f759",
        "colab": {
          "base_uri": "https://localhost:8080/"
        }
      },
      "execution_count": null,
      "outputs": [
        {
          "output_type": "stream",
          "name": "stdout",
          "text": [
            "XOR(0, 0) = 0\n",
            "XOR(0, 1) = 1\n",
            "XOR(1, 0) = 1\n",
            "XOR(1, 1) = 0\n"
          ]
        }
      ]
    },
    {
      "cell_type": "code",
      "source": [],
      "metadata": {
        "id": "u7F_8MUWYH-s"
      },
      "execution_count": null,
      "outputs": []
    }
  ]
}